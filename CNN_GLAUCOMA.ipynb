{
  "nbformat": 4,
  "nbformat_minor": 0,
  "metadata": {
    "colab": {
      "name": "CNN_GLAUCOMA.ipynb",
      "provenance": [],
      "authorship_tag": "ABX9TyNEwOkygFf+FczV/zXLvQ0T",
      "include_colab_link": true
    },
    "kernelspec": {
      "name": "python3",
      "display_name": "Python 3"
    }
  },
  "cells": [
    {
      "cell_type": "markdown",
      "metadata": {
        "id": "view-in-github",
        "colab_type": "text"
      },
      "source": [
        "<a href=\"https://colab.research.google.com/github/maniin/CNN-Glaucoma-prediction/blob/master/CNN_GLAUCOMA.ipynb\" target=\"_parent\"><img src=\"https://colab.research.google.com/assets/colab-badge.svg\" alt=\"Open In Colab\"/></a>"
      ]
    },
    {
      "cell_type": "code",
      "metadata": {
        "id": "T8t-BBa-HAj5",
        "colab_type": "code",
        "colab": {
          "base_uri": "https://localhost:8080/",
          "height": 34
        },
        "outputId": "784c521e-8ec0-40d1-a5f8-b289b54a26f0"
      },
      "source": [
        "from google.colab import drive\n",
        "drive.mount('/content/drive', force_remount= True)"
      ],
      "execution_count": 192,
      "outputs": [
        {
          "output_type": "stream",
          "text": [
            "Mounted at /content/drive\n"
          ],
          "name": "stdout"
        }
      ]
    },
    {
      "cell_type": "code",
      "metadata": {
        "id": "kmCJ5m5XIPnM",
        "colab_type": "code",
        "colab": {
          "base_uri": "https://localhost:8080/",
          "height": 136
        },
        "outputId": "dbcb9878-39c9-4881-c588-aa754e25b8d3"
      },
      "source": [
        "!ls '/content/drive/My Drive/Glaucoma/Train/Non_Glaucoma/'"
      ],
      "execution_count": 194,
      "outputs": [
        {
          "output_type": "stream",
          "text": [
            "'1 (10).tif'  '1 (17).tif'  '1 (23).tif'  '1 (2).tif'\t'1 (6).tif'\n",
            "'1 (11).tif'  '1 (18).tif'  '1 (24).tif'  '1 (30).tif'\t'1 (7).tif'\n",
            "'1 (12).tif'  '1 (19).tif'  '1 (25).tif'  '1 (31).tif'\t'1 (8).tif'\n",
            "'1 (13).tif'  '1 (1).tif'   '1 (26).tif'  '1 (32).tif'\t'1 (9).tif'\n",
            "'1 (14).tif'  '1 (20).tif'  '1 (27).tif'  '1 (3).tif'\n",
            "'1 (15).tif'  '1 (21).tif'  '1 (28).tif'  '1 (4).tif'\n",
            "'1 (16).tif'  '1 (22).tif'  '1 (29).tif'  '1 (5).tif'\n"
          ],
          "name": "stdout"
        }
      ]
    },
    {
      "cell_type": "code",
      "metadata": {
        "id": "rPfC_y7wJWD0",
        "colab_type": "code",
        "colab": {}
      },
      "source": [
        "import os\n",
        "import pandas as pd\n",
        "import numpy as np\n",
        "import seaborn as sns\n",
        "import matplotlib.pyplot as plt\n",
        "from matplotlib.image import imread\n",
        "# Technically not necessary in newest versions of jupyter\n",
        "%matplotlib inline"
      ],
      "execution_count": 195,
      "outputs": []
    },
    {
      "cell_type": "code",
      "metadata": {
        "id": "WGt7O0VZV3xD",
        "colab_type": "code",
        "colab": {}
      },
      "source": [
        ""
      ],
      "execution_count": null,
      "outputs": []
    },
    {
      "cell_type": "code",
      "metadata": {
        "id": "faKmMm6zIy-4",
        "colab_type": "code",
        "colab": {
          "base_uri": "https://localhost:8080/",
          "height": 561
        },
        "outputId": "4302689d-03cf-4d86-c9a3-79bda31ebaba"
      },
      "source": [
        "dim1 = []\n",
        "dim2 = []\n",
        "test_path = \"/content/drive/My Drive/Glaucoma/Train/\"\n",
        "for image_filename in os.listdir(test_path+'Glaucoma'):\n",
        "    img = imread(test_path+'Glaucoma'+'/'+image_filename)\n",
        "    d1,d2,colors = img.shape\n",
        "    dim1.append(d1)\n",
        "    dim2.append(d2)\n",
        "    print(d1,d2,colors)\n"
      ],
      "execution_count": 199,
      "outputs": [
        {
          "output_type": "stream",
          "text": [
            "435 580 3\n",
            "201 245 3\n",
            "201 245 3\n",
            "239 294 3\n",
            "219 270 3\n",
            "219 270 3\n",
            "435 580 3\n",
            "435 580 3\n",
            "600 750 3\n",
            "219 270 3\n",
            "201 245 3\n",
            "226 300 3\n",
            "576 768 3\n",
            "219 270 3\n",
            "263 319 3\n",
            "191 264 3\n",
            "239 294 3\n",
            "590 784 3\n",
            "284 295 3\n",
            "1024 1280 3\n",
            "590 784 3\n",
            "600 750 3\n",
            "576 768 3\n",
            "219 270 3\n",
            "435 580 3\n",
            "219 270 3\n",
            "201 245 3\n",
            "435 580 3\n",
            "255 360 3\n",
            "226 300 3\n",
            "435 580 3\n",
            "255 360 3\n"
          ],
          "name": "stdout"
        }
      ]
    },
    {
      "cell_type": "code",
      "metadata": {
        "id": "si9TIjptcg5j",
        "colab_type": "code",
        "colab": {}
      },
      "source": [
        ""
      ],
      "execution_count": null,
      "outputs": []
    },
    {
      "cell_type": "code",
      "metadata": {
        "id": "c5sj7O5iN9eN",
        "colab_type": "code",
        "colab": {
          "base_uri": "https://localhost:8080/",
          "height": 34
        },
        "outputId": "44526db8-ba3e-4957-e095-98e9f858d280"
      },
      "source": [
        "!ls \"/content/drive/My Drive/Glaucoma/Glaucoma\" | wc -l"
      ],
      "execution_count": 29,
      "outputs": [
        {
          "output_type": "stream",
          "text": [
            "40\n"
          ],
          "name": "stdout"
        }
      ]
    },
    {
      "cell_type": "code",
      "metadata": {
        "colab_type": "code",
        "id": "mxMgkgNnKgys",
        "colab": {
          "base_uri": "https://localhost:8080/",
          "height": 458
        },
        "outputId": "c42ce66e-c6f7-4f99-cffc-8f6cccb7e7f8"
      },
      "source": [
        "sns.jointplot(dim1,dim2)"
      ],
      "execution_count": 23,
      "outputs": [
        {
          "output_type": "execute_result",
          "data": {
            "text/plain": [
              "<seaborn.axisgrid.JointGrid at 0x7f4edba25710>"
            ]
          },
          "metadata": {
            "tags": []
          },
          "execution_count": 23
        },
        {
          "output_type": "display_data",
          "data": {
            "image/png": "[encoded data removed]",
            "text/plain": [
              "<Figure size 432x432 with 3 Axes>"
            ]
          },
          "metadata": {
            "tags": [],
            "needs_background": "light"
          }
        }
      ]
    },
    {
      "cell_type": "code",
      "metadata": {
        "id": "JK_RtBQ6Oac4",
        "colab_type": "code",
        "colab": {
          "base_uri": "https://localhost:8080/",
          "height": 51
        },
        "outputId": "f44fd702-0e14-43bc-b220-4b25fd7f7102"
      },
      "source": [
        "print(np.mean(dim1))\n",
        "print(np.mean(dim2))"
      ],
      "execution_count": 27,
      "outputs": [
        {
          "output_type": "stream",
          "text": [
            "384.9\n",
            "496.375\n"
          ],
          "name": "stdout"
        }
      ]
    },
    {
      "cell_type": "code",
      "metadata": {
        "id": "CqT5DPTnN-yn",
        "colab_type": "code",
        "colab": {
          "base_uri": "https://localhost:8080/",
          "height": 231
        },
        "outputId": "4ad0bbe5-3a38-4a28-fbaa-03e4c2af725f"
      },
      "source": [
        "dim3 = []\n",
        "dim4 = []\n",
        "test_path = \"/content/drive/My Drive/Glaucoma/\"\n",
        "for image_filename in os.listdir(test_path+'Non_Glaucoma'):\n",
        "    img = imread(test_path+'Non_Glaucoma'+'/'+image_filename)\n",
        "    d1,d2,colors = img.shape\n",
        "    dim3.append(d1)\n",
        "    dim4.append(d2)\n",
        "    print(d1,d2,colors)"
      ],
      "execution_count": 175,
      "outputs": [
        {
          "output_type": "error",
          "ename": "FileNotFoundError",
          "evalue": "ignored",
          "traceback": [
            "\u001b[0;31m---------------------------------------------------------------------------\u001b[0m",
            "\u001b[0;31mFileNotFoundError\u001b[0m                         Traceback (most recent call last)",
            "\u001b[0;32m<ipython-input-175-6f3002df73e3>\u001b[0m in \u001b[0;36m<module>\u001b[0;34m()\u001b[0m\n\u001b[1;32m      2\u001b[0m \u001b[0mdim4\u001b[0m \u001b[0;34m=\u001b[0m \u001b[0;34m[\u001b[0m\u001b[0;34m]\u001b[0m\u001b[0;34m\u001b[0m\u001b[0;34m\u001b[0m\u001b[0m\n\u001b[1;32m      3\u001b[0m \u001b[0mtest_path\u001b[0m \u001b[0;34m=\u001b[0m \u001b[0;34m\"/content/drive/My Drive/Glaucoma/\"\u001b[0m\u001b[0;34m\u001b[0m\u001b[0;34m\u001b[0m\u001b[0m\n\u001b[0;32m----> 4\u001b[0;31m \u001b[0;32mfor\u001b[0m \u001b[0mimage_filename\u001b[0m \u001b[0;32min\u001b[0m \u001b[0mos\u001b[0m\u001b[0;34m.\u001b[0m\u001b[0mlistdir\u001b[0m\u001b[0;34m(\u001b[0m\u001b[0mtest_path\u001b[0m\u001b[0;34m+\u001b[0m\u001b[0;34m'Non_Glaucoma'\u001b[0m\u001b[0;34m)\u001b[0m\u001b[0;34m:\u001b[0m\u001b[0;34m\u001b[0m\u001b[0;34m\u001b[0m\u001b[0m\n\u001b[0m\u001b[1;32m      5\u001b[0m     \u001b[0mimg\u001b[0m \u001b[0;34m=\u001b[0m \u001b[0mimread\u001b[0m\u001b[0;34m(\u001b[0m\u001b[0mtest_path\u001b[0m\u001b[0;34m+\u001b[0m\u001b[0;34m'Non_Glaucoma'\u001b[0m\u001b[0;34m+\u001b[0m\u001b[0;34m'/'\u001b[0m\u001b[0;34m+\u001b[0m\u001b[0mimage_filename\u001b[0m\u001b[0;34m)\u001b[0m\u001b[0;34m\u001b[0m\u001b[0;34m\u001b[0m\u001b[0m\n\u001b[1;32m      6\u001b[0m     \u001b[0md1\u001b[0m\u001b[0;34m,\u001b[0m\u001b[0md2\u001b[0m\u001b[0;34m,\u001b[0m\u001b[0mcolors\u001b[0m \u001b[0;34m=\u001b[0m \u001b[0mimg\u001b[0m\u001b[0;34m.\u001b[0m\u001b[0mshape\u001b[0m\u001b[0;34m\u001b[0m\u001b[0;34m\u001b[0m\u001b[0m\n",
            "\u001b[0;31mFileNotFoundError\u001b[0m: [Errno 2] No such file or directory: '/content/drive/My Drive/Glaucoma/Non_Glaucoma'"
          ]
        }
      ]
    },
    {
      "cell_type": "code",
      "metadata": {
        "id": "3uaaZ4RwOdAU",
        "colab_type": "code",
        "colab": {
          "base_uri": "https://localhost:8080/",
          "height": 458
        },
        "outputId": "068467e2-3696-4eb2-f584-e7766b401352"
      },
      "source": [
        "sns.jointplot(dim3,dim4)"
      ],
      "execution_count": 26,
      "outputs": [
        {
          "output_type": "execute_result",
          "data": {
            "text/plain": [
              "<seaborn.axisgrid.JointGrid at 0x7f4ed77f8908>"
            ]
          },
          "metadata": {
            "tags": []
          },
          "execution_count": 26
        },
        {
          "output_type": "display_data",
          "data": {
            "image/png": "[encoded data removed]",
            "text/plain": [
              "<Figure size 432x432 with 3 Axes>"
            ]
          },
          "metadata": {
            "tags": [],
            "needs_background": "light"
          }
        }
      ]
    },
    {
      "cell_type": "code",
      "metadata": {
        "id": "h19a9RAfawe3",
        "colab_type": "code",
        "colab": {}
      },
      "source": [
        "from keras.models import Sequential\n",
        "from keras.layers import Conv2D, MaxPooling2D\n",
        "from keras.layers import Activation, Dropout, Flatten, Dense\n",
        "import tensorflow as tf"
      ],
      "execution_count": 201,
      "outputs": []
    },
    {
      "cell_type": "code",
      "metadata": {
        "id": "yV9syEgcWGiC",
        "colab_type": "code",
        "colab": {}
      },
      "source": [
        "import numpy as np\n",
        "\n",
        "\n",
        "class EarlyStoppingAtBothAccruacy1(tf.keras.callbacks.Callback):\n",
        "    \"\"\"Stop training when the accuracy of the training and validation becomes 1.\n",
        "\n",
        "  Arguments:\n",
        "      patience: Number of epochs to wait after min has been hit. After this\n",
        "      number of no improvement, training stops.\n",
        "  \"\"\"\n",
        "\n",
        "    def __init__(self, patience=0):\n",
        "        super(EarlyStoppingAtBothAccruacy1, self).__init__()\n",
        "        self.patience = patience\n",
        "        # best_weights to store the weights at which the minimum loss occurs.\n",
        "        self.best_weights = None\n",
        "\n",
        "    def on_train_begin(self, logs=None):\n",
        "        # The number of epoch it has waited when loss is no longer minimum.\n",
        "        self.wait = 0\n",
        "        # The epoch the training stops at.\n",
        "        self.stopped_epoch = 0\n",
        "        # Initialize the best as infinity.\n",
        "        self.best_acc = 1.0\n",
        "        self.best_val_acc = 1.0\n",
        "\n",
        "    def on_epoch_end(self, epoch, logs=None):\n",
        "        current_accuracy = logs.get(\"accuracy\")\n",
        "        current_val_accuracy = logs.get(\"val_accuracy\")\n",
        "\n",
        "        if np.equal(current_accuracy, 1.0) and np.equal(current_val_accuracy,1.0):\n",
        "           self.stopped_epoch = epoch\n",
        "           self.model.stop_training = True\n",
        "           print(\"Restoring model weights from the end of the best epoch.\")\n",
        "           self.model.set_weights(self.model.get_weights())\n",
        "        \n",
        "\n",
        "    def on_train_end(self, logs=None):\n",
        "        if self.stopped_epoch > 0:\n",
        "            print(\"Epoch %05d: early stopping\" % (self.stopped_epoch + 1))\n"
      ],
      "execution_count": 120,
      "outputs": []
    },
    {
      "cell_type": "code",
      "metadata": {
        "id": "W5jnFSXWch_R",
        "colab_type": "code",
        "colab": {}
      },
      "source": [
        "\n",
        "\n",
        "\n",
        "model = Sequential()\n",
        "model.add(Conv2D(32, (3, 3), input_shape=(400, 500, 3)))\n",
        "model.add(Activation('relu'))\n",
        "model.add(MaxPooling2D(pool_size=(2, 2)))\n",
        "\n",
        "model.add(Conv2D(32, (3, 3)))\n",
        "model.add(Activation('relu'))\n",
        "model.add(MaxPooling2D(pool_size=(2, 2)))\n",
        "\n",
        "model.add(Conv2D(64, (3, 3)))\n",
        "model.add(Activation('relu'))\n",
        "model.add(MaxPooling2D(pool_size=(2, 2)))\n",
        "model.add(Flatten())  # this converts our 3D feature maps to 1D feature vectors\n",
        "model.add(Dense(64))\n",
        "model.add(Activation('relu'))\n",
        "model.add(Dropout(0.5))\n",
        "model.add(Dense(1))\n",
        "model.add(Activation('sigmoid'))\n",
        "\n",
        "model.compile(loss='binary_crossentropy',\n",
        "              optimizer = tf.keras.optimizers.Adam(),\n",
        "              metrics=['accuracy'])\n",
        "\n"
      ],
      "execution_count": 206,
      "outputs": []
    },
    {
      "cell_type": "code",
      "metadata": {
        "id": "sJVPWj11mgli",
        "colab_type": "code",
        "colab": {
          "base_uri": "https://localhost:8080/",
          "height": 663
        },
        "outputId": "d41720ee-0df3-4367-ecf9-05dcd73e5cad"
      },
      "source": [
        "model.summary()"
      ],
      "execution_count": 207,
      "outputs": [
        {
          "output_type": "stream",
          "text": [
            "Model: \"sequential_23\"\n",
            "_________________________________________________________________\n",
            "Layer (type)                 Output Shape              Param #   \n",
            "=================================================================\n",
            "conv2d_69 (Conv2D)           (None, 398, 498, 32)      896       \n",
            "_________________________________________________________________\n",
            "activation_115 (Activation)  (None, 398, 498, 32)      0         \n",
            "_________________________________________________________________\n",
            "max_pooling2d_69 (MaxPooling (None, 199, 249, 32)      0         \n",
            "_________________________________________________________________\n",
            "conv2d_70 (Conv2D)           (None, 197, 247, 32)      9248      \n",
            "_________________________________________________________________\n",
            "activation_116 (Activation)  (None, 197, 247, 32)      0         \n",
            "_________________________________________________________________\n",
            "max_pooling2d_70 (MaxPooling (None, 98, 123, 32)       0         \n",
            "_________________________________________________________________\n",
            "conv2d_71 (Conv2D)           (None, 96, 121, 64)       18496     \n",
            "_________________________________________________________________\n",
            "activation_117 (Activation)  (None, 96, 121, 64)       0         \n",
            "_________________________________________________________________\n",
            "max_pooling2d_71 (MaxPooling (None, 48, 60, 64)        0         \n",
            "_________________________________________________________________\n",
            "flatten_23 (Flatten)         (None, 184320)            0         \n",
            "_________________________________________________________________\n",
            "dense_46 (Dense)             (None, 64)                11796544  \n",
            "_________________________________________________________________\n",
            "activation_118 (Activation)  (None, 64)                0         \n",
            "_________________________________________________________________\n",
            "dropout_23 (Dropout)         (None, 64)                0         \n",
            "_________________________________________________________________\n",
            "dense_47 (Dense)             (None, 1)                 65        \n",
            "_________________________________________________________________\n",
            "activation_119 (Activation)  (None, 1)                 0         \n",
            "=================================================================\n",
            "Total params: 11,825,249\n",
            "Trainable params: 11,825,249\n",
            "Non-trainable params: 0\n",
            "_________________________________________________________________\n"
          ],
          "name": "stdout"
        }
      ]
    },
    {
      "cell_type": "code",
      "metadata": {
        "id": "q0BDAtuxoGgR",
        "colab_type": "code",
        "colab": {}
      },
      "source": [
        "train_path = \"/content/drive/My Drive/Glaucoma/Train\"\n",
        "test_path = \"/content/drive/My Drive/Glaucoma/Test\""
      ],
      "execution_count": 208,
      "outputs": []
    },
    {
      "cell_type": "code",
      "metadata": {
        "id": "9u6WfH6X5jzt",
        "colab_type": "code",
        "colab": {}
      },
      "source": [
        "#from tensorflow.keras.callbacks import EarlyStopping\n",
        "#early_stop = EarlyStopping(monitor='loss',patience=3,restore_best_weights=True, mode= 'min')"
      ],
      "execution_count": 124,
      "outputs": []
    },
    {
      "cell_type": "code",
      "metadata": {
        "id": "b1l0CnMWmk84",
        "colab_type": "code",
        "colab": {
          "base_uri": "https://localhost:8080/",
          "height": 1000
        },
        "outputId": "dafc2b07-26a3-49e5-98e0-e16f2be423b5"
      },
      "source": [
        "from tensorflow.keras.preprocessing.image import ImageDataGenerator\n",
        "\n",
        "batch_size = 16\n",
        "\n",
        "# this is the augmentation configuration we will use for training\n",
        "train_datagen = ImageDataGenerator(\n",
        "        rescale=1./255,\n",
        "        shear_range=0.2,        \n",
        "        zoom_range=0.2,\n",
        "        horizontal_flip=True)\n",
        "\n",
        "# this is the augmentation configuration we will use for testing:\n",
        "# only rescaling\n",
        "test_datagen = ImageDataGenerator(rescale=1./255)\n",
        "\n",
        "# this is a generator that will read pictures found in\n",
        "# subfolers of 'train_path', and indefinitely generate\n",
        "# batches of augmented image data\n",
        "train_generator = train_datagen.flow_from_directory(\n",
        "        train_path,  # this is the target directory\n",
        "        target_size=(400, 500),  # all images will be resized to 584x565\n",
        "        batch_size=batch_size,\n",
        "        shuffle = False,\n",
        "        class_mode='binary')  # since we use binary_crossentropy loss, we need binary labels\n",
        "\n",
        "# this is a similar generator, for validation data\n",
        "validation_generator = test_datagen.flow_from_directory(\n",
        "        test_path,\n",
        "        target_size=(400, 500),\n",
        "        batch_size=batch_size,\n",
        "        shuffle = False,\n",
        "        class_mode='binary')\n",
        "\n",
        "model.fit_generator(\n",
        "        train_generator,\n",
        "        #steps_per_epoch=32 // batch_size,\n",
        "        epochs=40,\n",
        "        validation_data=validation_generator,\n",
        "        #validation_steps=8 // batch_size\n",
        "        #callbacks =[ EarlyStoppingAtBothAccruacy1()]\n",
        "         )\n",
        "model.save_weights('FineTuned.h5')  # always save your weights after training or during training\n",
        "\n",
        "from tensorflow.keras.models import load_model\n",
        "model.save('Glaucoma_predict.h5')"
      ],
      "execution_count": 210,
      "outputs": [
        {
          "output_type": "stream",
          "text": [
            "Found 64 images belonging to 2 classes.\n",
            "Found 16 images belonging to 2 classes.\n",
            "Epoch 1/40\n",
            "4/4 [==============================] - 15s 4s/step - loss: 8.0063 - accuracy: 0.4219 - val_loss: 1.0895 - val_accuracy: 0.5000\n",
            "Epoch 2/40\n",
            "4/4 [==============================] - 14s 3s/step - loss: 1.4826 - accuracy: 0.4219 - val_loss: 0.7810 - val_accuracy: 0.5000\n",
            "Epoch 3/40\n",
            "4/4 [==============================] - 14s 3s/step - loss: 0.7761 - accuracy: 0.5156 - val_loss: 0.6397 - val_accuracy: 0.8750\n",
            "Epoch 4/40\n",
            "4/4 [==============================] - 14s 3s/step - loss: 0.7313 - accuracy: 0.5156 - val_loss: 0.6415 - val_accuracy: 0.6250\n",
            "Epoch 5/40\n",
            "4/4 [==============================] - 14s 3s/step - loss: 0.6537 - accuracy: 0.5781 - val_loss: 0.5851 - val_accuracy: 0.9375\n",
            "Epoch 6/40\n",
            "4/4 [==============================] - 14s 3s/step - loss: 0.5941 - accuracy: 0.6719 - val_loss: 0.5154 - val_accuracy: 0.9375\n",
            "Epoch 7/40\n",
            "4/4 [==============================] - 14s 3s/step - loss: 0.4708 - accuracy: 0.8438 - val_loss: 0.4119 - val_accuracy: 0.9375\n",
            "Epoch 8/40\n",
            "4/4 [==============================] - 14s 3s/step - loss: 0.4460 - accuracy: 0.8281 - val_loss: 0.3202 - val_accuracy: 0.8750\n",
            "Epoch 9/40\n",
            "4/4 [==============================] - 14s 3s/step - loss: 0.3582 - accuracy: 0.8438 - val_loss: 0.3652 - val_accuracy: 0.7500\n",
            "Epoch 10/40\n",
            "4/4 [==============================] - 14s 3s/step - loss: 0.2793 - accuracy: 0.8750 - val_loss: 0.2304 - val_accuracy: 0.9375\n",
            "Epoch 11/40\n",
            "4/4 [==============================] - 14s 3s/step - loss: 0.3107 - accuracy: 0.8125 - val_loss: 0.2820 - val_accuracy: 0.9375\n",
            "Epoch 12/40\n",
            "4/4 [==============================] - 14s 3s/step - loss: 0.3109 - accuracy: 0.8906 - val_loss: 0.3762 - val_accuracy: 0.7500\n",
            "Epoch 13/40\n",
            "4/4 [==============================] - 14s 3s/step - loss: 0.3268 - accuracy: 0.8281 - val_loss: 0.2278 - val_accuracy: 0.8750\n",
            "Epoch 14/40\n",
            "4/4 [==============================] - 14s 3s/step - loss: 0.2907 - accuracy: 0.8438 - val_loss: 0.2273 - val_accuracy: 0.8750\n",
            "Epoch 15/40\n",
            "4/4 [==============================] - 15s 4s/step - loss: 0.2267 - accuracy: 0.8906 - val_loss: 0.2402 - val_accuracy: 0.8750\n",
            "Epoch 16/40\n",
            "4/4 [==============================] - 14s 3s/step - loss: 0.1944 - accuracy: 0.9531 - val_loss: 0.3033 - val_accuracy: 0.8750\n",
            "Epoch 17/40\n",
            "4/4 [==============================] - 14s 3s/step - loss: 0.1761 - accuracy: 0.9219 - val_loss: 0.2735 - val_accuracy: 0.8750\n",
            "Epoch 18/40\n",
            "4/4 [==============================] - 14s 3s/step - loss: 0.1995 - accuracy: 0.9062 - val_loss: 0.2509 - val_accuracy: 0.9375\n",
            "Epoch 19/40\n",
            "4/4 [==============================] - 14s 3s/step - loss: 0.1209 - accuracy: 0.9844 - val_loss: 0.1772 - val_accuracy: 0.9375\n",
            "Epoch 20/40\n",
            "4/4 [==============================] - 14s 3s/step - loss: 0.2051 - accuracy: 0.8594 - val_loss: 0.1918 - val_accuracy: 0.9375\n",
            "Epoch 21/40\n",
            "4/4 [==============================] - 14s 3s/step - loss: 0.1178 - accuracy: 0.9375 - val_loss: 0.2543 - val_accuracy: 0.9375\n",
            "Epoch 22/40\n",
            "4/4 [==============================] - 14s 3s/step - loss: 0.1265 - accuracy: 0.9531 - val_loss: 0.3535 - val_accuracy: 0.9375\n",
            "Epoch 23/40\n",
            "4/4 [==============================] - 13s 3s/step - loss: 0.1606 - accuracy: 0.8906 - val_loss: 0.1628 - val_accuracy: 0.9375\n",
            "Epoch 24/40\n",
            "4/4 [==============================] - 14s 3s/step - loss: 0.1980 - accuracy: 0.8750 - val_loss: 0.1120 - val_accuracy: 0.9375\n",
            "Epoch 25/40\n",
            "4/4 [==============================] - 14s 3s/step - loss: 0.1398 - accuracy: 0.9375 - val_loss: 0.1887 - val_accuracy: 0.9375\n",
            "Epoch 26/40\n",
            "4/4 [==============================] - 14s 3s/step - loss: 0.1050 - accuracy: 0.9688 - val_loss: 0.2378 - val_accuracy: 0.9375\n",
            "Epoch 27/40\n",
            "4/4 [==============================] - 14s 3s/step - loss: 0.1296 - accuracy: 0.9219 - val_loss: 0.2394 - val_accuracy: 0.9375\n",
            "Epoch 28/40\n",
            "4/4 [==============================] - 14s 3s/step - loss: 0.0696 - accuracy: 0.9688 - val_loss: 0.1664 - val_accuracy: 0.9375\n",
            "Epoch 29/40\n",
            "4/4 [==============================] - 14s 3s/step - loss: 0.0791 - accuracy: 0.9688 - val_loss: 0.0541 - val_accuracy: 1.0000\n",
            "Epoch 30/40\n",
            "4/4 [==============================] - 14s 3s/step - loss: 0.0967 - accuracy: 0.9688 - val_loss: 0.0762 - val_accuracy: 0.9375\n",
            "Epoch 31/40\n",
            "4/4 [==============================] - 14s 3s/step - loss: 0.1030 - accuracy: 0.9688 - val_loss: 0.4658 - val_accuracy: 0.9375\n",
            "Epoch 32/40\n",
            "4/4 [==============================] - 14s 3s/step - loss: 0.1596 - accuracy: 0.8750 - val_loss: 0.4196 - val_accuracy: 0.9375\n",
            "Epoch 33/40\n",
            "4/4 [==============================] - 14s 3s/step - loss: 0.0815 - accuracy: 0.9688 - val_loss: 0.3331 - val_accuracy: 0.9375\n",
            "Epoch 34/40\n",
            "4/4 [==============================] - 14s 3s/step - loss: 0.1451 - accuracy: 0.9062 - val_loss: 0.2072 - val_accuracy: 0.9375\n",
            "Epoch 35/40\n",
            "4/4 [==============================] - 14s 3s/step - loss: 0.1128 - accuracy: 0.9375 - val_loss: 0.9069 - val_accuracy: 0.8750\n",
            "Epoch 36/40\n",
            "4/4 [==============================] - 14s 3s/step - loss: 0.1410 - accuracy: 0.9062 - val_loss: 0.1170 - val_accuracy: 0.9375\n",
            "Epoch 37/40\n",
            "4/4 [==============================] - 14s 3s/step - loss: 0.0904 - accuracy: 0.9844 - val_loss: 0.0483 - val_accuracy: 1.0000\n",
            "Epoch 38/40\n",
            "4/4 [==============================] - 14s 3s/step - loss: 0.0740 - accuracy: 0.9375 - val_loss: 0.0422 - val_accuracy: 1.0000\n",
            "Epoch 39/40\n",
            "4/4 [==============================] - 14s 3s/step - loss: 0.0816 - accuracy: 0.9844 - val_loss: 0.0310 - val_accuracy: 1.0000\n",
            "Epoch 40/40\n",
            "4/4 [==============================] - 14s 3s/step - loss: 0.1070 - accuracy: 0.9531 - val_loss: 0.0220 - val_accuracy: 1.0000\n"
          ],
          "name": "stdout"
        }
      ]
    },
    {
      "cell_type": "code",
      "metadata": {
        "id": "MIWhdryTsUZw",
        "colab_type": "code",
        "colab": {
          "base_uri": "https://localhost:8080/",
          "height": 530
        },
        "outputId": "0c8889a2-4b7c-43bf-f131-d4756d05e7a1"
      },
      "source": [
        "losses = pd.DataFrame(model.history.history)\n",
        "losses [['loss','val_loss']].plot()\n",
        "losses [['accuracy','val_accuracy']].plot()"
      ],
      "execution_count": 211,
      "outputs": [
        {
          "output_type": "execute_result",
          "data": {
            "text/plain": [
              "<matplotlib.axes._subplots.AxesSubplot at 0x7f4e93e88d68>"
            ]
          },
          "metadata": {
            "tags": []
          },
          "execution_count": 211
        },
        {
          "output_type": "display_data",
          "data": {
            "image/png": "[encoded data removed]",
            "text/plain": [
              "<Figure size 432x288 with 1 Axes>"
            ]
          },
          "metadata": {
            "tags": [],
            "needs_background": "light"
          }
        },
        {
          "output_type": "display_data",
          "data": {
            "image/png": "[encoded data removed]",
            "text/plain": [
              "<Figure size 432x288 with 1 Axes>"
            ]
          },
          "metadata": {
            "tags": [],
            "needs_background": "light"
          }
        }
      ]
    },
    {
      "cell_type": "code",
      "metadata": {
        "id": "w7_DMp7B64a6",
        "colab_type": "code",
        "colab": {
          "base_uri": "https://localhost:8080/",
          "height": 51
        },
        "outputId": "e3f9a069-8d14-4a7f-c327-251f6b4b1094"
      },
      "source": [
        "model.evaluate(validation_generator)"
      ],
      "execution_count": 212,
      "outputs": [
        {
          "output_type": "stream",
          "text": [
            "1/1 [==============================] - 0s 2ms/step - loss: 0.0220 - accuracy: 1.0000\n"
          ],
          "name": "stdout"
        },
        {
          "output_type": "execute_result",
          "data": {
            "text/plain": [
              "[0.02204936556518078, 1.0]"
            ]
          },
          "metadata": {
            "tags": []
          },
          "execution_count": 212
        }
      ]
    },
    {
      "cell_type": "code",
      "metadata": {
        "id": "UyenhoLr7PuH",
        "colab_type": "code",
        "colab": {}
      },
      "source": [
        "from tensorflow.keras.preprocessing import image"
      ],
      "execution_count": 213,
      "outputs": []
    },
    {
      "cell_type": "code",
      "metadata": {
        "id": "4Ph7w8817Rbl",
        "colab_type": "code",
        "colab": {
          "base_uri": "https://localhost:8080/",
          "height": 289
        },
        "outputId": "4aea96a3-7fe9-43f3-a487-dc0d6a4f04e7"
      },
      "source": [
        "pred_prob = model.predict(validation_generator)\n",
        "pred_prob"
      ],
      "execution_count": 214,
      "outputs": [
        {
          "output_type": "execute_result",
          "data": {
            "text/plain": [
              "array([[1.6130179e-02],\n",
              "       [6.6003203e-04],\n",
              "       [6.5080982e-05],\n",
              "       [2.5066733e-04],\n",
              "       [4.1074157e-03],\n",
              "       [8.4946066e-02],\n",
              "       [2.9347926e-02],\n",
              "       [1.1990845e-02],\n",
              "       [9.9995720e-01],\n",
              "       [8.2906455e-01],\n",
              "       [9.9822736e-01],\n",
              "       [9.9825346e-01],\n",
              "       [9.9800944e-01],\n",
              "       [9.9991953e-01],\n",
              "       [9.9970931e-01],\n",
              "       [9.9260032e-01]], dtype=float32)"
            ]
          },
          "metadata": {
            "tags": []
          },
          "execution_count": 214
        }
      ]
    },
    {
      "cell_type": "code",
      "metadata": {
        "id": "LwkdFrXB652r",
        "colab_type": "code",
        "colab": {
          "base_uri": "https://localhost:8080/",
          "height": 34
        },
        "outputId": "688a830c-748e-4393-e15f-f9d508a510cd"
      },
      "source": [
        "print(validation_generator)"
      ],
      "execution_count": 215,
      "outputs": [
        {
          "output_type": "stream",
          "text": [
            "<tensorflow.python.keras.preprocessing.image.DirectoryIterator object at 0x7f4e8fe31908>\n"
          ],
          "name": "stdout"
        }
      ]
    },
    {
      "cell_type": "code",
      "metadata": {
        "id": "pUKCVNHr3cnn",
        "colab_type": "code",
        "colab": {
          "base_uri": "https://localhost:8080/",
          "height": 289
        },
        "outputId": "e497d905-674a-4767-f2e8-b22520fd878e"
      },
      "source": [
        "y_pred = model.predict_classes(validation_generator)\n",
        "y_pred"
      ],
      "execution_count": 216,
      "outputs": [
        {
          "output_type": "execute_result",
          "data": {
            "text/plain": [
              "array([[0],\n",
              "       [0],\n",
              "       [0],\n",
              "       [0],\n",
              "       [0],\n",
              "       [0],\n",
              "       [0],\n",
              "       [0],\n",
              "       [1],\n",
              "       [1],\n",
              "       [1],\n",
              "       [1],\n",
              "       [1],\n",
              "       [1],\n",
              "       [1],\n",
              "       [1]], dtype=int32)"
            ]
          },
          "metadata": {
            "tags": []
          },
          "execution_count": 216
        }
      ]
    },
    {
      "cell_type": "code",
      "metadata": {
        "id": "yfqLJpskvAOk",
        "colab_type": "code",
        "colab": {}
      },
      "source": [
        "predictions = np.round(np.amax(pred_prob, axis=1) ).astype(int)"
      ],
      "execution_count": 222,
      "outputs": []
    },
    {
      "cell_type": "code",
      "metadata": {
        "id": "W7yzN2X2d8p8",
        "colab_type": "code",
        "colab": {
          "base_uri": "https://localhost:8080/",
          "height": 34
        },
        "outputId": "606e0401-1e16-465a-fcce-2ca0ef4ef483"
      },
      "source": [
        "validation_generator.classes"
      ],
      "execution_count": 220,
      "outputs": [
        {
          "output_type": "execute_result",
          "data": {
            "text/plain": [
              "array([0, 0, 0, 0, 0, 0, 0, 0, 1, 1, 1, 1, 1, 1, 1, 1], dtype=int32)"
            ]
          },
          "metadata": {
            "tags": []
          },
          "execution_count": 220
        }
      ]
    },
    {
      "cell_type": "code",
      "metadata": {
        "id": "qzOfkhGy7Wdw",
        "colab_type": "code",
        "colab": {
          "base_uri": "https://localhost:8080/",
          "height": 170
        },
        "outputId": "e0721348-16b6-406d-c4a4-08b48082e92a"
      },
      "source": [
        "from sklearn.metrics import classification_report,confusion_matrix\n",
        "print(classification_report(validation_generator.classes,predictions))"
      ],
      "execution_count": 223,
      "outputs": [
        {
          "output_type": "stream",
          "text": [
            "              precision    recall  f1-score   support\n",
            "\n",
            "           0       1.00      1.00      1.00         8\n",
            "           1       1.00      1.00      1.00         8\n",
            "\n",
            "    accuracy                           1.00        16\n",
            "   macro avg       1.00      1.00      1.00        16\n",
            "weighted avg       1.00      1.00      1.00        16\n",
            "\n"
          ],
          "name": "stdout"
        }
      ]
    },
    {
      "cell_type": "code",
      "metadata": {
        "id": "af1YPJxe7-89",
        "colab_type": "code",
        "colab": {
          "base_uri": "https://localhost:8080/",
          "height": 51
        },
        "outputId": "686dbd08-f3cc-4fa2-af47-fd553f4ed27c"
      },
      "source": [
        "confusion_matrix(validation_generator.classes,predictions)"
      ],
      "execution_count": 224,
      "outputs": [
        {
          "output_type": "execute_result",
          "data": {
            "text/plain": [
              "array([[8, 0],\n",
              "       [0, 8]])"
            ]
          },
          "metadata": {
            "tags": []
          },
          "execution_count": 224
        }
      ]
    },
    {
      "cell_type": "code",
      "metadata": {
        "id": "7L65_VvqMkf3",
        "colab_type": "code",
        "colab": {}
      },
      "source": [
        "model.save('/content/drive/My Drive/Glaucoma/Glaucoma_predict.h5')"
      ],
      "execution_count": 226,
      "outputs": []
    },
    {
      "cell_type": "code",
      "metadata": {
        "id": "U0v1IeZTNKyx",
        "colab_type": "code",
        "colab": {}
      },
      "source": [
        "model.save_weights('/content/drive/My Drive/Glaucoma/Glaucoma_model_weight.h5')"
      ],
      "execution_count": 227,
      "outputs": []
    }
  ]
}